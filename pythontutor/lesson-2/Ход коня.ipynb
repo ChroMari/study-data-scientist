{
 "cells": [
  {
   "cell_type": "markdown",
   "id": "9ad1e620",
   "metadata": {},
   "source": [
    "## Условие\n",
    "\n",
    "Шахматный конь ходит буквой “Г” — на две клетки по вертикали в любом направлении и на одну клетку по горизонтали, или наоборот. Даны две различные клетки шахматной доски, определите, может ли конь попасть с первой клетки на вторую одним ходом."
   ]
  },
  {
   "cell_type": "code",
   "execution_count": 1,
   "id": "b124adf6",
   "metadata": {},
   "outputs": [
    {
     "name": "stdout",
     "output_type": "stream",
     "text": [
      "Введите позицию первого коня по х: 1\n",
      "введите позицию первого коня по y: 1\n",
      "Введите позицию второго коня по х: 1\n",
      "Введите позицию второго коня по y: 4\n",
      "Из первой клетки щахматный конь не может попасть во вторую клетку. NO\n"
     ]
    }
   ],
   "source": [
    "first_rook_x = int(input('Введите позицию первого коня по х: '))\n",
    "first_rook_y = int(input('введите позицию первого коня по y: '))\n",
    "second_rook_x = int(input('Введите позицию второго коня по х: '))\n",
    "second_rook_y = int(input('Введите позицию второго коня по y: '))\n",
    "\n",
    "dx = abs(first_rook_x - second_rook_x)\n",
    "dy = abs(first_rook_y - second_rook_y)\n",
    "\n",
    "if dx == 1 and dy == 2 or dx == 2 and dy == 1:\n",
    "    print('Из первой клетки шахматный конь может попасть во вторую клетку. YES')\n",
    "else:\n",
    "    print('Из первой клетки щахматный конь не может попасть во вторую клетку. NO')"
   ]
  }
 ],
 "metadata": {
  "kernelspec": {
   "display_name": "Python 3 (ipykernel)",
   "language": "python",
   "name": "python3"
  },
  "language_info": {
   "codemirror_mode": {
    "name": "ipython",
    "version": 3
   },
   "file_extension": ".py",
   "mimetype": "text/x-python",
   "name": "python",
   "nbconvert_exporter": "python",
   "pygments_lexer": "ipython3",
   "version": "3.10.12"
  }
 },
 "nbformat": 4,
 "nbformat_minor": 5
}
