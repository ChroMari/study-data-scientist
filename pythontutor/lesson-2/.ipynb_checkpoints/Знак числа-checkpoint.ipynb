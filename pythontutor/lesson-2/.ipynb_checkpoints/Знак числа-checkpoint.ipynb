{
 "cells": [
  {
   "cell_type": "markdown",
   "id": "82d9cba7",
   "metadata": {},
   "source": [
    "## Условие\n",
    "\n",
    "В математике функция sign(x) (знак числа) определена так:"
   ]
  },
  {
   "cell_type": "markdown",
   "id": "dd386397",
   "metadata": {},
   "source": [
    "$$ sign(x) = 1, x > 0, $$\n",
    "$$ sign(x) = -1, x < 0, $$\n",
    "$$ sign(x) = 0, x = 0 $$"
   ]
  },
  {
   "cell_type": "markdown",
   "id": "7544151e",
   "metadata": {},
   "source": [
    "Для данного числа x выведите значение sign(x). Эту задачу желательно решить с использованием каскадных инструкций if... elif... else."
   ]
  },
  {
   "cell_type": "code",
   "execution_count": 1,
   "id": "4e2b8eff",
   "metadata": {},
   "outputs": [
    {
     "name": "stdout",
     "output_type": "stream",
     "text": [
      "Введите чему равно число: 34\n",
      "sign(34) равен 1\n"
     ]
    }
   ],
   "source": [
    "x = int(input('Введите чему равно число: '))\n",
    "\n",
    "meaning = 0\n",
    "\n",
    "if x > 0:\n",
    "    meaning = 1\n",
    "elif x < 0:\n",
    "    meaning = -1\n",
    "    \n",
    "print(f'sign({x}) равен {meaning}')\n"
   ]
  }
 ],
 "metadata": {
  "kernelspec": {
   "display_name": "Python 3 (ipykernel)",
   "language": "python",
   "name": "python3"
  },
  "language_info": {
   "codemirror_mode": {
    "name": "ipython",
    "version": 3
   },
   "file_extension": ".py",
   "mimetype": "text/x-python",
   "name": "python",
   "nbconvert_exporter": "python",
   "pygments_lexer": "ipython3",
   "version": "3.10.12"
  }
 },
 "nbformat": 4,
 "nbformat_minor": 5
}
