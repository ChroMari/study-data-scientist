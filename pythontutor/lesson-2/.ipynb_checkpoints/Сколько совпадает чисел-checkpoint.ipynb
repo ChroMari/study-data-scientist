{
 "cells": [
  {
   "cell_type": "markdown",
   "id": "984f1635",
   "metadata": {},
   "source": [
    "## Условие\n",
    "\n",
    "Даны три целых числа. Определите, сколько среди них совпадающих. Программа должна вывести одно из чисел: 3 (если все совпадают), 2 (если два совпадает) или 0 (если все числа различны)."
   ]
  },
  {
   "cell_type": "code",
   "execution_count": 1,
   "id": "d839fee9",
   "metadata": {},
   "outputs": [
    {
     "name": "stdout",
     "output_type": "stream",
     "text": [
      "Введите первое число: 3\n",
      "Введите второе число: 6\n",
      "Введите третье число: 3\n",
      "Два числа совпадают: 2\n"
     ]
    }
   ],
   "source": [
    "first_number = int(input('Введите первое число: '))\n",
    "second_number = int(input('Введите второе число: '))\n",
    "third_number = int(input('Введите третье число: '))\n",
    "\n",
    "if first_number == second_number == third_number:\n",
    "    print('Все числа совпадают: 3')\n",
    "elif first_number == second_number or first_number == third_number or second_number == third_number:\n",
    "    print('Два числа совпадают: 2')\n",
    "else:\n",
    "    print('Все числа различные: 0')"
   ]
  }
 ],
 "metadata": {
  "kernelspec": {
   "display_name": "Python 3 (ipykernel)",
   "language": "python",
   "name": "python3"
  },
  "language_info": {
   "codemirror_mode": {
    "name": "ipython",
    "version": 3
   },
   "file_extension": ".py",
   "mimetype": "text/x-python",
   "name": "python",
   "nbconvert_exporter": "python",
   "pygments_lexer": "ipython3",
   "version": "3.10.12"
  }
 },
 "nbformat": 4,
 "nbformat_minor": 5
}
