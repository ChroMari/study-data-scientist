{
 "cells": [
  {
   "cell_type": "markdown",
   "id": "4bc84b6c",
   "metadata": {},
   "source": [
    "## Условие\n",
    "\n",
    "Даны три целых числа. Выведите значение наименьшего из них."
   ]
  },
  {
   "cell_type": "code",
   "execution_count": 2,
   "id": "c41ed245",
   "metadata": {},
   "outputs": [
    {
     "name": "stdout",
     "output_type": "stream",
     "text": [
      "Введите первое число: 3\n",
      "Введите второе число: 56\n",
      "Введите третье число: -1\n",
      "Наименьшее третье число: -1\n"
     ]
    }
   ],
   "source": [
    "first_number = int(input('Введите первое число: '))\n",
    "second_number = int(input('Введите второе число: '))\n",
    "third_number = int(input('Введите третье число: '))\n",
    "\n",
    "if third_number >= first_number <= second_number:\n",
    "    print(f'Наименьшее число первое: {first_number}')\n",
    "elif first_number >= second_number <= third_number:\n",
    "    print(f'Наименьшее второе число: {second_number}')\n",
    "else:\n",
    "    print(f'Наименьшее третье число: {third_number}')"
   ]
  }
 ],
 "metadata": {
  "kernelspec": {
   "display_name": "Python 3 (ipykernel)",
   "language": "python",
   "name": "python3"
  },
  "language_info": {
   "codemirror_mode": {
    "name": "ipython",
    "version": 3
   },
   "file_extension": ".py",
   "mimetype": "text/x-python",
   "name": "python",
   "nbconvert_exporter": "python",
   "pygments_lexer": "ipython3",
   "version": "3.10.12"
  }
 },
 "nbformat": 4,
 "nbformat_minor": 5
}
