{
 "cells": [
  {
   "cell_type": "markdown",
   "id": "4580e75e",
   "metadata": {},
   "source": [
    "## Условие\n",
    "\n",
    "Шоколадка имеет вид прямоугольника, разделенного на n×m долек. Шоколадку можно один раз разломить по прямой на две части. Определите, можно ли таким образом отломить от шоколадки часть, состоящую ровно из k долек. Программа получает на вход три числа: n, m, k и должна вывести YES или NO."
   ]
  },
  {
   "cell_type": "code",
   "execution_count": 1,
   "id": "42472994",
   "metadata": {},
   "outputs": [
    {
     "name": "stdout",
     "output_type": "stream",
     "text": [
      "Введите чему равно n: 3\n",
      "Введите чему равно m: 4\n",
      "Введите количество долек, которые вы хотите отломить: 56\n",
      "Вы не можете отломить кусочек. No\n"
     ]
    }
   ],
   "source": [
    "n = int(input('Введите чему равно n: '))\n",
    "m = int(input('Введите чему равно m: '))\n",
    "k = int(input('Введите количество долек, которые вы хотите отломить: '))\n",
    "\n",
    "if (k % n == 0 or k % m == 0) and n * m >= k:\n",
    "    print('Вы можете отломить кусочек. YES')\n",
    "else:\n",
    "    print('Вы не можете отломить кусочек. No')"
   ]
  }
 ],
 "metadata": {
  "kernelspec": {
   "display_name": "Python 3 (ipykernel)",
   "language": "python",
   "name": "python3"
  },
  "language_info": {
   "codemirror_mode": {
    "name": "ipython",
    "version": 3
   },
   "file_extension": ".py",
   "mimetype": "text/x-python",
   "name": "python",
   "nbconvert_exporter": "python",
   "pygments_lexer": "ipython3",
   "version": "3.10.12"
  }
 },
 "nbformat": 4,
 "nbformat_minor": 5
}
