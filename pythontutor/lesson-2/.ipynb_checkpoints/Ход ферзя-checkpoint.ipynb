{
 "cells": [
  {
   "cell_type": "markdown",
   "id": "e31356d1",
   "metadata": {},
   "source": [
    "## Условие\n",
    "\n",
    "Шахматный ферзь ходит по диагонали, горизонтали или вертикали. Даны две различные клетки шахматной доски, определите, может ли ферзь попасть с первой клетки на вторую одним ходом."
   ]
  },
  {
   "cell_type": "code",
   "execution_count": 1,
   "id": "91e5243a",
   "metadata": {},
   "outputs": [
    {
     "name": "stdout",
     "output_type": "stream",
     "text": [
      "Введите позицию первого ферзя по х: 1\n",
      "введите позицию первого ферзя по y: 1\n",
      "Введите позицию второго ферзя по х: 2\n",
      "Введите позицию второго ферзя по y: 2\n",
      "Из первой клетки ферзь может попасть во вторую клетку. YES\n"
     ]
    }
   ],
   "source": [
    "first_rook_x = int(input('Введите позицию первого ферзя по х: '))\n",
    "first_rook_y = int(input('введите позицию первого ферзя по y: '))\n",
    "second_rook_x = int(input('Введите позицию второго ферзя по х: '))\n",
    "second_rook_y = int(input('Введите позицию второго ферзя по y: '))\n",
    "\n",
    "if first_rook_x == second_rook_x or first_rook_y == second_rook_y or abs(first_rook_x - second_rook_x) == abs(first_rook_y - second_rook_y):\n",
    "    print('Из первой клетки ферзь может попасть во вторую клетку. YES')\n",
    "else:\n",
    "    print('Из первой клетки ферзь не может попасть во вторую клетку. NO')"
   ]
  }
 ],
 "metadata": {
  "kernelspec": {
   "display_name": "Python 3 (ipykernel)",
   "language": "python",
   "name": "python3"
  },
  "language_info": {
   "codemirror_mode": {
    "name": "ipython",
    "version": 3
   },
   "file_extension": ".py",
   "mimetype": "text/x-python",
   "name": "python",
   "nbconvert_exporter": "python",
   "pygments_lexer": "ipython3",
   "version": "3.10.12"
  }
 },
 "nbformat": 4,
 "nbformat_minor": 5
}
