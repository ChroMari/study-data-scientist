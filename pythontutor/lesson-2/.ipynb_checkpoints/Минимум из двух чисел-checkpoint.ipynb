{
 "cells": [
  {
   "cell_type": "markdown",
   "id": "5c653407",
   "metadata": {},
   "source": [
    "## Условие\n",
    "\n",
    "Даны два целых числа. Выведите значение наименьшего из них."
   ]
  },
  {
   "cell_type": "code",
   "execution_count": 1,
   "id": "44ca379d",
   "metadata": {},
   "outputs": [
    {
     "name": "stdout",
     "output_type": "stream",
     "text": [
      "Введите первое число: 3\n",
      "Введите второе число: 56\n",
      "Наименьшее из двух введённых чисел 3\n"
     ]
    }
   ],
   "source": [
    "first_number = int(input('Введите первое число: '))\n",
    "second_number = int(input('Введите второе число: '))\n",
    "min_number = 0\n",
    "\n",
    "if first_number < second_number:\n",
    "    min_number = first_number\n",
    "else:\n",
    "    min_number = second_number\n",
    "\n",
    "print(f'Наименьшее из двух введённых чисел {min_number}')"
   ]
  }
 ],
 "metadata": {
  "kernelspec": {
   "display_name": "Python 3 (ipykernel)",
   "language": "python",
   "name": "python3"
  },
  "language_info": {
   "codemirror_mode": {
    "name": "ipython",
    "version": 3
   },
   "file_extension": ".py",
   "mimetype": "text/x-python",
   "name": "python",
   "nbconvert_exporter": "python",
   "pygments_lexer": "ipython3",
   "version": "3.10.12"
  }
 },
 "nbformat": 4,
 "nbformat_minor": 5
}
