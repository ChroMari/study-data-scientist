{
 "cells": [
  {
   "cell_type": "markdown",
   "id": "6fc37b87",
   "metadata": {},
   "source": [
    "## Условие\n",
    "\n",
    "Заданы две клетки шахматной доски. Если они покрашены в один цвет, то выведите слово YES, а если в разные цвета — то NO. Программа получает на вход четыре числа от 1 до 8 каждое, задающие номер столбца и номер строки сначала для первой клетки, потом для второй клетки."
   ]
  },
  {
   "cell_type": "code",
   "execution_count": 2,
   "id": "9536fb6d",
   "metadata": {},
   "outputs": [
    {
     "name": "stdout",
     "output_type": "stream",
     "text": [
      "Позиция первой клетки на шахмотной доске по х: 1\n",
      "Позиция первой клетки на шахмотной доске по y: 2\n",
      "Позиция второй клетки на шахмотной доске по х: 6\n",
      "Позиция второй клетки на шахмотной доске по y: 7\n",
      "Данные клетки покрашены в один цвет YES\n"
     ]
    }
   ],
   "source": [
    "first_square_x = int(input('Позиция первой клетки на шахмотной доске по х: '))\n",
    "first_square_y = int(input('Позиция первой клетки на шахмотной доске по y: '))\n",
    "second_square_x = int(input('Позиция второй клетки на шахмотной доске по х: '))\n",
    "second_square_y = int(input('Позиция второй клетки на шахмотной доске по y: '))\n",
    "\n",
    "#if (first_square_x + first_square_y) % 2 == (second_square_x + second_square_y) % 2:\n",
    "if (first_square_x + first_square_y + second_square_x + second_square_y) % 2 == 0:\n",
    "    print('Данные клетки покрашены в один цвет YES')\n",
    "else:\n",
    "    print('Данные клетки покрашены в разные цвета NO')"
   ]
  }
 ],
 "metadata": {
  "kernelspec": {
   "display_name": "Python 3 (ipykernel)",
   "language": "python",
   "name": "python3"
  },
  "language_info": {
   "codemirror_mode": {
    "name": "ipython",
    "version": 3
   },
   "file_extension": ".py",
   "mimetype": "text/x-python",
   "name": "python",
   "nbconvert_exporter": "python",
   "pygments_lexer": "ipython3",
   "version": "3.10.12"
  }
 },
 "nbformat": 4,
 "nbformat_minor": 5
}
