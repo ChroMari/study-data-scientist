{
 "cells": [
  {
   "cell_type": "markdown",
   "id": "6328958a",
   "metadata": {},
   "source": [
    "## Условие\n",
    "\n",
    "Шахматный слон ходит по диагонали. Даны две различные клетки шахматной доски, определите, может ли слон попасть с первой клетки на вторую одним ходом."
   ]
  },
  {
   "cell_type": "code",
   "execution_count": 1,
   "id": "204190aa",
   "metadata": {},
   "outputs": [
    {
     "name": "stdout",
     "output_type": "stream",
     "text": [
      "Введите позицию первого слона по х: 4\n",
      "введите позицию первого слона по y: 4\n",
      "Введите позицию второго слона по х: 5\n",
      "Введите позицию второго слона по y: 5\n",
      "Из первой клетки слон может попасть во вторую клетку. YES\n"
     ]
    }
   ],
   "source": [
    "first_rook_x = int(input('Введите позицию первого слона по х: '))\n",
    "first_rook_y = int(input('введите позицию первого слона по y: '))\n",
    "second_rook_x = int(input('Введите позицию второго слона по х: '))\n",
    "second_rook_y = int(input('Введите позицию второго слона по y: '))\n",
    "\n",
    "if abs(first_rook_x - second_rook_x) == abs(first_rook_y - second_rook_y):\n",
    "    print('Из первой клетки слон может попасть во вторую клетку. YES')\n",
    "else:\n",
    "    print('Из первой клетки слон не может попасть во вторую клетку. NO')"
   ]
  }
 ],
 "metadata": {
  "kernelspec": {
   "display_name": "Python 3 (ipykernel)",
   "language": "python",
   "name": "python3"
  },
  "language_info": {
   "codemirror_mode": {
    "name": "ipython",
    "version": 3
   },
   "file_extension": ".py",
   "mimetype": "text/x-python",
   "name": "python",
   "nbconvert_exporter": "python",
   "pygments_lexer": "ipython3",
   "version": "3.10.12"
  }
 },
 "nbformat": 4,
 "nbformat_minor": 5
}
