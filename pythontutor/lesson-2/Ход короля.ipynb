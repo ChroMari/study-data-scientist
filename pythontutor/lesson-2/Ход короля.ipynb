{
 "cells": [
  {
   "cell_type": "markdown",
   "id": "17df4101",
   "metadata": {},
   "source": [
    "## Условие\n",
    "\n",
    "Шахматный король ходит по горизонтали, вертикали и диагонали, но только на 1 клетку. Даны две различные клетки шахматной доски, определите, может ли король попасть с первой клетки на вторую одним ходом. Программа получает на вход четыре числа от 1 до 8 каждое, задающие номер столбца и номер строки сначала для первой клетки, потом для второй клетки. Программа должна вывести YES, если из первой клетки ходом короля можно попасть во вторую или NO в противном случае."
   ]
  },
  {
   "cell_type": "code",
   "execution_count": 1,
   "id": "d5391d58",
   "metadata": {},
   "outputs": [
    {
     "name": "stdout",
     "output_type": "stream",
     "text": [
      "Введите позицию первой ладьи по х: 4\n",
      "введите позицию первой ладьи по y: 4\n",
      "Введите позицию второй ладьи по х: 5\n",
      "Введите позицию второй ладьи по y: 5\n",
      "YES\n"
     ]
    }
   ],
   "source": [
    "first_rook_x = int(input('Введите позицию первого короля по х: '))\n",
    "first_rook_y = int(input('введите позицию первого короля по y: '))\n",
    "second_rook_x = int(input('Введите позицию второго короля по х: '))\n",
    "second_rook_y = int(input('Введите позицию второго короля по y: '))\n",
    "\n",
    "#if first_rook_x + 1 == second_rook_x or first_rook_x - 1 == second_rook_x or first_rook_y + 1 == second_rook_y or first_rook_y - 1:\n",
    "if abs(first_rook_x - second_rook_x) <= 1 and abs(first_rook_y - second_rook_y) <= 1:\n",
    "    print('Из первой клетки король может попасть во вторую клетку. YES')\n",
    "else:\n",
    "    print('Из первой клетки король не может попасть во вторую клетку. NO')"
   ]
  }
 ],
 "metadata": {
  "kernelspec": {
   "display_name": "Python 3 (ipykernel)",
   "language": "python",
   "name": "python3"
  },
  "language_info": {
   "codemirror_mode": {
    "name": "ipython",
    "version": 3
   },
   "file_extension": ".py",
   "mimetype": "text/x-python",
   "name": "python",
   "nbconvert_exporter": "python",
   "pygments_lexer": "ipython3",
   "version": "3.10.12"
  }
 },
 "nbformat": 4,
 "nbformat_minor": 5
}
