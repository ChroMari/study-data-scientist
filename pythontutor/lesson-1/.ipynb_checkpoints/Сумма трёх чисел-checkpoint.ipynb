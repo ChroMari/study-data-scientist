{
 "cells": [
  {
   "cell_type": "markdown",
   "id": "ef657a6d",
   "metadata": {},
   "source": [
    "## Условие\n",
    "\n",
    "Напишите программу, которая считывает три числа и выводит их сумму. Каждое число записано в отдельной строке."
   ]
  },
  {
   "cell_type": "code",
   "execution_count": 2,
   "id": "867ce2df",
   "metadata": {},
   "outputs": [
    {
     "name": "stdout",
     "output_type": "stream",
     "text": [
      "Введите первое число: 3\n",
      "Введите второе число: 5\n",
      "Введите третье число число: 4\n",
      "Сумма трёх чисел равна - 12\n"
     ]
    }
   ],
   "source": [
    "first_number = int(input('Введите первое число: '))\n",
    "second_number = int(input('Введите второе число: '))\n",
    "third_number = int(input('Введите третье число число: '))\n",
    "\n",
    "sum_numbers = first_number + second_number + third_number\n",
    "\n",
    "print(f'Сумма трёх чисел равна - {sum_numbers}')"
   ]
  }
 ],
 "metadata": {
  "kernelspec": {
   "display_name": "Python 3 (ipykernel)",
   "language": "python",
   "name": "python3"
  },
  "language_info": {
   "codemirror_mode": {
    "name": "ipython",
    "version": 3
   },
   "file_extension": ".py",
   "mimetype": "text/x-python",
   "name": "python",
   "nbconvert_exporter": "python",
   "pygments_lexer": "ipython3",
   "version": "3.10.12"
  }
 },
 "nbformat": 4,
 "nbformat_minor": 5
}
