{
 "cells": [
  {
   "cell_type": "markdown",
   "id": "a4b2ad03",
   "metadata": {},
   "source": [
    "## Условие\n",
    "\n",
    "Дано число n. С начала суток прошло n минут. Определите, сколько часов и минут будут показывать электронные часы в этот момент. Программа должна вывести два числа: количество часов (от 0 до 23) и количество минут (от 0 до 59). Учтите, что число n может быть больше, чем количество минут в сутках."
   ]
  },
  {
   "cell_type": "code",
   "execution_count": 1,
   "id": "67dcf33d",
   "metadata": {},
   "outputs": [
    {
     "name": "stdout",
     "output_type": "stream",
     "text": [
      "Сколько минут прошло с начала суток: 150\n",
      "Электронные часы показывают 2:30\n"
     ]
    }
   ],
   "source": [
    "n_minut = int(input('Сколько минут прошло с начала суток: '))\n",
    "\n",
    "hour = (n_minut // 60) % 24\n",
    "minut = n_minut % 60\n",
    "\n",
    "print(f'Электронные часы показывают {hour}:{minut}')"
   ]
  }
 ],
 "metadata": {
  "kernelspec": {
   "display_name": "Python 3 (ipykernel)",
   "language": "python",
   "name": "python3"
  },
  "language_info": {
   "codemirror_mode": {
    "name": "ipython",
    "version": 3
   },
   "file_extension": ".py",
   "mimetype": "text/x-python",
   "name": "python",
   "nbconvert_exporter": "python",
   "pygments_lexer": "ipython3",
   "version": "3.10.12"
  }
 },
 "nbformat": 4,
 "nbformat_minor": 5
}
