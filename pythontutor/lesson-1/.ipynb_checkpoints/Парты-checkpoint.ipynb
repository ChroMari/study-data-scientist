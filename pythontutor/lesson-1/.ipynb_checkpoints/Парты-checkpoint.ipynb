{
 "cells": [
  {
   "cell_type": "markdown",
   "id": "2591ea2d",
   "metadata": {},
   "source": [
    "## Условие\n",
    "\n",
    "В школе решили набрать три новых математических класса. Так как занятия по математике у них проходят в одно и то же время, было решено выделить кабинет для каждого класса и купить в них новые парты. За каждой партой может сидеть не больше двух учеников. Известно количество учащихся в каждом из трёх классов. Сколько всего нужно закупить парт чтобы их хватило на всех учеников? Программа получает на вход три натуральных числа: количество учащихся в каждом из трех классов."
   ]
  },
  {
   "cell_type": "code",
   "execution_count": 2,
   "id": "5b18b2f4",
   "metadata": {},
   "outputs": [
    {
     "name": "stdout",
     "output_type": "stream",
     "text": [
      "Введите количество учеников в первом классе: 17\n",
      "Введите количество учеников во втором классе: 19\n",
      "Введите колчество учеников во втором классе: 18\n",
      "Всего нужно закупить парт 28\n"
     ]
    }
   ],
   "source": [
    "first_class = int(input('Введите количество учеников в первом классе: '))\n",
    "second_class = int(input('Введите количество учеников во втором классе: '))\n",
    "third_class = int(input('Введите колчество учеников во втором классе: '))\n",
    "\n",
    "first_count_desks = first_class // 2 + first_class % 2\n",
    "second_count_desks = second_class // 2 + second_class % 2\n",
    "third_count_desks = third_class // 2 + third_class % 2\n",
    "all_desks = first_count_desks + second_count_desks + third_count_desks\n",
    "\n",
    "print(f'Всего нужно закупить парт {all_desks}')"
   ]
  }
 ],
 "metadata": {
  "kernelspec": {
   "display_name": "Python 3 (ipykernel)",
   "language": "python",
   "name": "python3"
  },
  "language_info": {
   "codemirror_mode": {
    "name": "ipython",
    "version": 3
   },
   "file_extension": ".py",
   "mimetype": "text/x-python",
   "name": "python",
   "nbconvert_exporter": "python",
   "pygments_lexer": "ipython3",
   "version": "3.10.12"
  }
 },
 "nbformat": 4,
 "nbformat_minor": 5
}
