{
 "cells": [
  {
   "cell_type": "markdown",
   "id": "9575ff41",
   "metadata": {},
   "source": [
    "## Условие\n",
    "\n",
    "Напишите программу, которая считывает длины двух катетов в прямоугольном треугольнике и выводит его площадь. Каждое число записано в отдельной строке."
   ]
  },
  {
   "cell_type": "markdown",
   "id": "9c881dfc",
   "metadata": {},
   "source": [
    "$$ s = \\cfrac{1}{2} \\ b h $$"
   ]
  },
  {
   "cell_type": "markdown",
   "id": "731d5cbc",
   "metadata": {},
   "source": [
    "где \n",
    "* h - height of rectangle\n",
    "* b - base of rectangle"
   ]
  },
  {
   "cell_type": "code",
   "execution_count": 3,
   "id": "b25952a5",
   "metadata": {},
   "outputs": [
    {
     "name": "stdout",
     "output_type": "stream",
     "text": [
      "Введите чему равен первый катет: 4\n",
      "Введите чему равен второй катет: 5\n",
      "Площадь прямоугольного треугольника равна 10.0\n"
     ]
    }
   ],
   "source": [
    "height_of_rectangle = int(input('Введите чему равен первый катет: '))\n",
    "base_of_rectangle = int(input('Введите чему равен второй катет: '))\n",
    "\n",
    "# area_triangle = (1 / 2) * (height_of_rectangle + base_of_rectangle)\n",
    "area_triangle = (height_of_rectangle * base_of_rectangle) / 2\n",
    "\n",
    "print(f'Площадь прямоугольного треугольника равна {area_triangle}')"
   ]
  }
 ],
 "metadata": {
  "kernelspec": {
   "display_name": "Python 3 (ipykernel)",
   "language": "python",
   "name": "python3"
  },
  "language_info": {
   "codemirror_mode": {
    "name": "ipython",
    "version": 3
   },
   "file_extension": ".py",
   "mimetype": "text/x-python",
   "name": "python",
   "nbconvert_exporter": "python",
   "pygments_lexer": "ipython3",
   "version": "3.10.12"
  }
 },
 "nbformat": 4,
 "nbformat_minor": 5
}
