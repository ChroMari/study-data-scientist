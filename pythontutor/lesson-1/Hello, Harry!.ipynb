{
 "cells": [
  {
   "cell_type": "markdown",
   "id": "9be1de13",
   "metadata": {},
   "source": [
    "## Условие\n",
    "\n",
    "Напишите программу, которая приветствует пользователя, выводя слово Hello, введенное имя и знаки препинания по образцу."
   ]
  },
  {
   "cell_type": "code",
   "execution_count": 1,
   "id": "19b1c0d3",
   "metadata": {},
   "outputs": [
    {
     "name": "stdout",
     "output_type": "stream",
     "text": [
      "Введите ваше имя: Mari\n",
      "Hello, Mari!\n"
     ]
    }
   ],
   "source": [
    "name = input('Введите ваше имя: ')\n",
    "\n",
    "print(f'Hello, {name}!')"
   ]
  }
 ],
 "metadata": {
  "kernelspec": {
   "display_name": "Python 3 (ipykernel)",
   "language": "python",
   "name": "python3"
  },
  "language_info": {
   "codemirror_mode": {
    "name": "ipython",
    "version": 3
   },
   "file_extension": ".py",
   "mimetype": "text/x-python",
   "name": "python",
   "nbconvert_exporter": "python",
   "pygments_lexer": "ipython3",
   "version": "3.10.12"
  }
 },
 "nbformat": 4,
 "nbformat_minor": 5
}
