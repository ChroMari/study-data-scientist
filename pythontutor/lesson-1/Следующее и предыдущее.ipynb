{
 "cells": [
  {
   "cell_type": "markdown",
   "id": "8063582c",
   "metadata": {},
   "source": [
    "## Условие\n",
    "\n",
    "Напишите программу, которая считывает целое число и выводит текст, аналогичный приведенному в примере (пробелы важны!)."
   ]
  },
  {
   "cell_type": "code",
   "execution_count": 1,
   "id": "74fb584c",
   "metadata": {},
   "outputs": [
    {
     "name": "stdout",
     "output_type": "stream",
     "text": [
      "Введите целое число: 145\n",
      "The next number for the number 145 is 146.\n",
      "The previous number for the number 145 is 144.\n"
     ]
    }
   ],
   "source": [
    "number = int(input('Введите целое число: '))\n",
    "\n",
    "prev_number = number - 1\n",
    "next_number = number + 1\n",
    "\n",
    "print(f'The next number for the number {number} is {next_number}.')\n",
    "print(f'The previous number for the number {number} is {prev_number}.')"
   ]
  }
 ],
 "metadata": {
  "kernelspec": {
   "display_name": "Python 3 (ipykernel)",
   "language": "python",
   "name": "python3"
  },
  "language_info": {
   "codemirror_mode": {
    "name": "ipython",
    "version": 3
   },
   "file_extension": ".py",
   "mimetype": "text/x-python",
   "name": "python",
   "nbconvert_exporter": "python",
   "pygments_lexer": "ipython3",
   "version": "3.10.12"
  }
 },
 "nbformat": 4,
 "nbformat_minor": 5
}
