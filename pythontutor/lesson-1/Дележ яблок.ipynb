{
 "cells": [
  {
   "cell_type": "markdown",
   "id": "639e0155",
   "metadata": {},
   "source": [
    "## Условие\n",
    "\n",
    "n школьников делят k яблок поровну, неделящийся остаток остается в корзинке. Сколько яблок достанется каждому школьнику? Сколько яблок останется в корзинке? Программа получает на вход числа n и k и должна вывести искомое количество яблок (два числа)."
   ]
  },
  {
   "cell_type": "code",
   "execution_count": 2,
   "id": "b625f54b",
   "metadata": {},
   "outputs": [
    {
     "name": "stdout",
     "output_type": "stream",
     "text": [
      "Введите количество школьников: 8\n",
      "Введите количество яблок в корзине: 50\n",
      "Каждому школьнику достанется по 6\n",
      "В корзине после раздачи останется яблок 2\n"
     ]
    }
   ],
   "source": [
    "count_of_schoolchildren = int(input('Введите количество школьников: '))\n",
    "count_of_apple = int(input('Введите количество яблок в корзине: '))\n",
    "\n",
    "apples_distributed = count_of_apple // count_of_schoolchildren\n",
    "apples_left = count_of_apple % count_of_schoolchildren\n",
    "\n",
    "print(f'Каждому школьнику достанется по {apples_distributed}')\n",
    "print(f'В корзине после раздачи останется яблок {apples_left}')"
   ]
  }
 ],
 "metadata": {
  "kernelspec": {
   "display_name": "Python 3 (ipykernel)",
   "language": "python",
   "name": "python3"
  },
  "language_info": {
   "codemirror_mode": {
    "name": "ipython",
    "version": 3
   },
   "file_extension": ".py",
   "mimetype": "text/x-python",
   "name": "python",
   "nbconvert_exporter": "python",
   "pygments_lexer": "ipython3",
   "version": "3.10.12"
  }
 },
 "nbformat": 4,
 "nbformat_minor": 5
}
