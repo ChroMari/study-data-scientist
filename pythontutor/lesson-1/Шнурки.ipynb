{
 "cells": [
  {
   "cell_type": "markdown",
   "id": "34f32a54",
   "metadata": {},
   "source": [
    "## Условие\n",
    "\n",
    "Обувная фабрика собирается начать выпуск элитной модели ботинок. Дырочки для шнуровки будут расположены в два ряда, расстояние между рядами равно a, а расстояние между дырочками в ряду b. Количество дырочек в каждом ряду равно N. Шнуровка должна происходить элитным способом “наверх, по горизонтали в другой ряд, наверх, по горизонтали и т.д.” (см. рисунок). Кроме того, чтобы шнурки можно было завязать элитным бантиком, длина свободного конца шнурка должна быть l. Какова должна быть длина шнурка для этих ботинок?\n",
    "\n",
    "Программа получает на вход четыре натуральных числа a, b, l и N - именно в таком порядке - и должна вывести одно число - искомую длину шнурка.\n",
    "\n",
    "![шнурки](shoelace.png)"
   ]
  },
  {
   "cell_type": "code",
   "execution_count": 2,
   "id": "aa122e95",
   "metadata": {},
   "outputs": [
    {
     "name": "stdout",
     "output_type": "stream",
     "text": [
      "Введите чему равно расстояние между рядами: 1\n",
      "Введите чему равно расстояние между дырочками в ряду: 2\n",
      "Чему равна длина свободного конца шнурка: 3\n",
      "Количество дырочек в каждом ряду: 4\n",
      "Необходимая длина шнурка равна 25\n"
     ]
    }
   ],
   "source": [
    "distance_between_rows = int(input('Введите чему равно расстояние между рядами: '))\n",
    "distance_between_holes = int(input('Введите чему равно расстояние между дырочками в ряду: '))\n",
    "free_lace_length = int(input('Чему равна длина свободного конца шнурка: '))\n",
    "count_holes = int(input('Количество дырочек в каждом ряду: ')) - 1\n",
    "\n",
    "all_length = 2 * free_lace_length + (distance_between_rows * count_holes * 2 + distance_between_rows) + (distance_between_holes * count_holes * 2)\n",
    "\n",
    "print(f'Необходимая длина шнурка равна {all_length}')"
   ]
  }
 ],
 "metadata": {
  "kernelspec": {
   "display_name": "Python 3 (ipykernel)",
   "language": "python",
   "name": "python3"
  },
  "language_info": {
   "codemirror_mode": {
    "name": "ipython",
    "version": 3
   },
   "file_extension": ".py",
   "mimetype": "text/x-python",
   "name": "python",
   "nbconvert_exporter": "python",
   "pygments_lexer": "ipython3",
   "version": "3.10.12"
  }
 },
 "nbformat": 4,
 "nbformat_minor": 5
}
